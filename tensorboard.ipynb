{
 "cells": [
  {
   "cell_type": "code",
   "execution_count": 1,
   "id": "7e5482e4-93dc-43cd-9392-5c30cc265e2c",
   "metadata": {},
   "outputs": [],
   "source": [
    "import nersc_tensorboard_helper\n",
    "import os\n",
    "#os.environ['TENSORBOARD_BINARY'] = '/usr/common/software/tensorflow/intel-tensorflow/2.6.0-py37/bin/tensorboard'\n",
    "%load_ext tensorboard"
   ]
  },
  {
   "cell_type": "code",
   "execution_count": 4,
   "id": "152cb09e-03e4-485b-9d3a-7fbe08da07ef",
   "metadata": {},
   "outputs": [
    {
     "data": {
      "text/html": [
       "\n",
       "      <iframe id=\"tensorboard-frame-38fa24ea3c081845\" width=\"100%\" height=\"800\" frameborder=\"0\">\n",
       "      </iframe>\n",
       "      <script>\n",
       "        (function() {\n",
       "          const frame = document.getElementById(\"tensorboard-frame-38fa24ea3c081845\");\n",
       "          const url = new URL(\"/\", window.location);\n",
       "          const port = 33669;\n",
       "          if (port) {\n",
       "            url.port = port;\n",
       "          }\n",
       "          frame.src = url;\n",
       "        })();\n",
       "      </script>\n",
       "    "
      ],
      "text/plain": [
       "<IPython.core.display.HTML object>"
      ]
     },
     "metadata": {},
     "output_type": "display_data"
    }
   ],
   "source": [
    "%tensorboard --logdir test_model10 --port 0 # change the model path!"
   ]
  },
  {
   "cell_type": "code",
   "execution_count": 5,
   "id": "ecd3ce36-0a6e-495f-933e-0c2a98f71944",
   "metadata": {},
   "outputs": [
    {
     "data": {
      "text/html": [
       "<a href=\"https://jupyter.nersc.gov/user/andrish/perlmutter-login-node-base/proxy/33669/\">https://jupyter.nersc.gov/user/andrish/perlmutter-login-node-base/proxy/33669/</a>"
      ],
      "text/plain": [
       "<IPython.core.display.HTML object>"
      ]
     },
     "metadata": {},
     "output_type": "display_data"
    }
   ],
   "source": [
    "nersc_tensorboard_helper.tb_address()"
   ]
  },
  {
   "cell_type": "code",
   "execution_count": null,
   "id": "2d1f93a9-e97d-4386-9bda-930101916f4a",
   "metadata": {},
   "outputs": [],
   "source": []
  }
 ],
 "metadata": {
  "kernelspec": {
   "display_name": "tensorflow-2.6.0",
   "language": "python",
   "name": "tensorflow-2.6.0"
  },
  "language_info": {
   "codemirror_mode": {
    "name": "ipython",
    "version": 3
   },
   "file_extension": ".py",
   "mimetype": "text/x-python",
   "name": "python",
   "nbconvert_exporter": "python",
   "pygments_lexer": "ipython3",
   "version": "3.9.15"
  }
 },
 "nbformat": 4,
 "nbformat_minor": 5
}
